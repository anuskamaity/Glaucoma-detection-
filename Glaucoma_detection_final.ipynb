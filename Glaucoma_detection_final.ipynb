{
 "cells": [
  {
   "cell_type": "code",
   "execution_count": 1,
   "metadata": {
    "colab": {
     "base_uri": "https://localhost:8080/"
    },
    "id": "_vmozh1np4_i",
    "outputId": "e43a7300-15d1-43de-c9ed-9958e24c4de9"
   },
   "outputs": [
    {
     "name": "stdout",
     "output_type": "stream",
     "text": [
      "Mounted at /content/drive\n"
     ]
    }
   ],
   "source": [
    "from google.colab import drive\n",
    "drive.mount('/content/drive')"
   ]
  },
  {
   "cell_type": "code",
   "execution_count": 2,
   "metadata": {
    "colab": {
     "base_uri": "https://localhost:8080/"
    },
    "id": "7GFugYFTp9pb",
    "outputId": "e4f50721-1b21-43f5-c884-3b3541d3ec0d"
   },
   "outputs": [
    {
     "name": "stdout",
     "output_type": "stream",
     "text": [
      "Found 455 images belonging to 2 classes.\n",
      "Found 98 images belonging to 1 classes.\n",
      "Found 64 images belonging to 2 classes.\n"
     ]
    }
   ],
   "source": [
    "from keras.preprocessing.image import ImageDataGenerator\n",
    "train_datagen = ImageDataGenerator(rescale = 1./255,\n",
    "shear_range = 0.2,\n",
    "zoom_range = 0.2,\n",
    "horizontal_flip = True)\n",
    "test_datagen = ImageDataGenerator(rescale = 1./255)\n",
    "valid_datagen = ImageDataGenerator(rescale = 1./255)\n",
    "\n",
    "training_set = train_datagen.flow_from_directory('/content/drive/My Drive/train',\n",
    "target_size = (256,256),\n",
    "batch_size = 32,\n",
    "classes = ['class0', 'class1'])\n",
    "\n",
    "test_set = test_datagen.flow_from_directory('/content/drive/My Drive/test',\n",
    "target_size = (256,256),\n",
    "batch_size = 1,\n",
    "class_mode = None)\n",
    "\n",
    "valid_set = train_datagen.flow_from_directory('/content/drive/My Drive/valid',\n",
    "target_size = (256,256),\n",
    "batch_size = 32,\n",
    "classes = ['class0', 'class1'])"
   ]
  },
  {
   "cell_type": "code",
   "execution_count": 21,
   "metadata": {
    "id": "vCVpF9eVtp3b"
   },
   "outputs": [],
   "source": [
    "from keras.models import Sequential\n",
    "from keras.layers import Conv2D\n",
    "from keras.layers import MaxPooling2D\n",
    "from keras.layers import Flatten\n",
    "from keras.layers import Dense\n",
    "# Initialising the CNN\n",
    "classifier = Sequential()\n",
    "# Step 1 - Convolution\n",
    "classifier.add(Conv2D(32, (3, 3), input_shape = (256,256, 3), activation = 'relu'))\n",
    "# Step 2 - Pooling\n",
    "classifier.add(MaxPooling2D(pool_size = (2, 2)))\n",
    "# Adding a second convolutional layer\n",
    "classifier.add(Conv2D(32, (3, 3), activation = 'relu'))\n",
    "classifier.add(MaxPooling2D(pool_size = (2, 2)))\n",
    "# Step 3 - Flattening\n",
    "classifier.add(Flatten())\n",
    "# Step 4 - Full connection\n",
    "classifier.add(Dense(units = 128, activation = 'relu'))\n",
    "classifier.add(Dense(units = 2, activation = 'sigmoid'))\n",
    "# Compiling the CNN\n",
    "classifier.compile(optimizer = 'adam', loss = 'categorical_crossentropy', metrics = ['accuracy'])"
   ]
  },
  {
   "cell_type": "code",
   "execution_count": 4,
   "metadata": {
    "colab": {
     "base_uri": "https://localhost:8080/"
    },
    "id": "t-QNWDmOtuw2",
    "outputId": "f9e0f9f6-1841-4354-e16f-cf5e2fd1f7bb"
   },
   "outputs": [
    {
     "name": "stdout",
     "output_type": "stream",
     "text": [
      "Model: \"sequential\"\n",
      "_________________________________________________________________\n",
      " Layer (type)                Output Shape              Param #   \n",
      "=================================================================\n",
      " conv2d (Conv2D)             (None, 254, 254, 32)      896       \n",
      "                                                                 \n",
      " max_pooling2d (MaxPooling2D  (None, 127, 127, 32)     0         \n",
      " )                                                               \n",
      "                                                                 \n",
      " conv2d_1 (Conv2D)           (None, 125, 125, 32)      9248      \n",
      "                                                                 \n",
      " max_pooling2d_1 (MaxPooling  (None, 62, 62, 32)       0         \n",
      " 2D)                                                             \n",
      "                                                                 \n",
      " flatten (Flatten)           (None, 123008)            0         \n",
      "                                                                 \n",
      " dense (Dense)               (None, 128)               15745152  \n",
      "                                                                 \n",
      " dense_1 (Dense)             (None, 2)                 258       \n",
      "                                                                 \n",
      "=================================================================\n",
      "Total params: 15,755,554\n",
      "Trainable params: 15,755,554\n",
      "Non-trainable params: 0\n",
      "_________________________________________________________________\n"
     ]
    }
   ],
   "source": [
    "classifier.summary()"
   ]
  },
  {
   "cell_type": "code",
   "execution_count": 22,
   "metadata": {
    "colab": {
     "base_uri": "https://localhost:8080/"
    },
    "id": "TdGd2SbSuOv6",
    "outputId": "e751ab5f-03b1-450f-f13d-694792f08c5d"
   },
   "outputs": [
    {
     "name": "stderr",
     "output_type": "stream",
     "text": [
      "/usr/local/lib/python3.7/dist-packages/ipykernel_launcher.py:7: UserWarning: `Model.fit_generator` is deprecated and will be removed in a future version. Please use `Model.fit`, which supports generators.\n",
      "  import sys\n"
     ]
    },
    {
     "name": "stdout",
     "output_type": "stream",
     "text": [
      "Epoch 1/30\n",
      "14/14 [==============================] - 11s 773ms/step - loss: 2.1512 - accuracy: 0.5272 - val_loss: 0.6694 - val_accuracy: 0.6094\n",
      "Epoch 2/30\n",
      "14/14 [==============================] - 10s 729ms/step - loss: 0.5888 - accuracy: 0.6738 - val_loss: 0.6756 - val_accuracy: 0.6094\n",
      "Epoch 3/30\n",
      "14/14 [==============================] - 10s 724ms/step - loss: 0.5069 - accuracy: 0.7470 - val_loss: 0.6094 - val_accuracy: 0.6250\n",
      "Epoch 4/30\n",
      "14/14 [==============================] - 10s 714ms/step - loss: 0.4909 - accuracy: 0.7660 - val_loss: 0.5906 - val_accuracy: 0.6875\n",
      "Epoch 5/30\n",
      "14/14 [==============================] - 10s 722ms/step - loss: 0.4509 - accuracy: 0.7943 - val_loss: 0.5461 - val_accuracy: 0.7500\n",
      "Epoch 6/30\n",
      "14/14 [==============================] - 10s 758ms/step - loss: 0.4596 - accuracy: 0.7849 - val_loss: 0.4509 - val_accuracy: 0.8125\n",
      "Epoch 7/30\n",
      "14/14 [==============================] - 10s 718ms/step - loss: 0.4556 - accuracy: 0.7872 - val_loss: 0.5283 - val_accuracy: 0.7188\n",
      "Epoch 8/30\n",
      "14/14 [==============================] - 10s 760ms/step - loss: 0.4339 - accuracy: 0.8085 - val_loss: 0.3973 - val_accuracy: 0.8438\n",
      "Epoch 9/30\n",
      "14/14 [==============================] - 10s 723ms/step - loss: 0.4264 - accuracy: 0.8251 - val_loss: 0.3646 - val_accuracy: 0.8281\n",
      "Epoch 10/30\n",
      "14/14 [==============================] - 10s 731ms/step - loss: 0.4288 - accuracy: 0.8109 - val_loss: 0.4224 - val_accuracy: 0.7656\n",
      "Epoch 11/30\n",
      "14/14 [==============================] - 10s 725ms/step - loss: 0.4017 - accuracy: 0.8251 - val_loss: 0.3703 - val_accuracy: 0.7812\n",
      "Epoch 12/30\n",
      "14/14 [==============================] - 10s 723ms/step - loss: 0.3621 - accuracy: 0.8511 - val_loss: 0.3097 - val_accuracy: 0.8594\n",
      "Epoch 13/30\n",
      "14/14 [==============================] - 10s 714ms/step - loss: 0.3503 - accuracy: 0.8416 - val_loss: 0.4256 - val_accuracy: 0.7812\n",
      "Epoch 14/30\n",
      "14/14 [==============================] - 10s 716ms/step - loss: 0.3667 - accuracy: 0.8652 - val_loss: 0.3099 - val_accuracy: 0.8594\n",
      "Epoch 15/30\n",
      "14/14 [==============================] - 10s 716ms/step - loss: 0.3488 - accuracy: 0.8605 - val_loss: 0.4361 - val_accuracy: 0.8125\n",
      "Epoch 16/30\n",
      "14/14 [==============================] - 11s 820ms/step - loss: 0.3360 - accuracy: 0.8652 - val_loss: 0.2694 - val_accuracy: 0.8906\n",
      "Epoch 17/30\n",
      "14/14 [==============================] - 10s 712ms/step - loss: 0.3521 - accuracy: 0.8511 - val_loss: 0.3577 - val_accuracy: 0.8125\n",
      "Epoch 18/30\n",
      "14/14 [==============================] - 10s 731ms/step - loss: 0.4252 - accuracy: 0.8371 - val_loss: 0.3536 - val_accuracy: 0.8750\n",
      "Epoch 19/30\n",
      "14/14 [==============================] - 10s 719ms/step - loss: 0.3518 - accuracy: 0.8511 - val_loss: 0.3485 - val_accuracy: 0.7969\n",
      "Epoch 20/30\n",
      "14/14 [==============================] - 10s 718ms/step - loss: 0.3589 - accuracy: 0.8582 - val_loss: 0.2912 - val_accuracy: 0.9375\n",
      "Epoch 21/30\n",
      "14/14 [==============================] - 10s 753ms/step - loss: 0.3721 - accuracy: 0.8629 - val_loss: 0.2926 - val_accuracy: 0.8906\n",
      "Epoch 22/30\n",
      "14/14 [==============================] - 10s 712ms/step - loss: 0.3504 - accuracy: 0.8747 - val_loss: 0.2996 - val_accuracy: 0.9062\n",
      "Epoch 23/30\n",
      "14/14 [==============================] - 10s 716ms/step - loss: 0.3374 - accuracy: 0.8723 - val_loss: 0.3000 - val_accuracy: 0.8594\n",
      "Epoch 24/30\n",
      "14/14 [==============================] - 10s 724ms/step - loss: 0.3555 - accuracy: 0.8629 - val_loss: 0.4210 - val_accuracy: 0.7812\n",
      "Epoch 25/30\n",
      "14/14 [==============================] - 10s 728ms/step - loss: 0.3466 - accuracy: 0.8527 - val_loss: 0.2271 - val_accuracy: 0.9219\n",
      "Epoch 26/30\n",
      "14/14 [==============================] - 10s 712ms/step - loss: 0.3240 - accuracy: 0.8747 - val_loss: 0.2561 - val_accuracy: 0.8906\n",
      "Epoch 27/30\n",
      "14/14 [==============================] - 10s 730ms/step - loss: 0.2976 - accuracy: 0.8884 - val_loss: 0.2973 - val_accuracy: 0.8750\n",
      "Epoch 28/30\n",
      "14/14 [==============================] - 10s 718ms/step - loss: 0.2943 - accuracy: 0.8889 - val_loss: 0.2422 - val_accuracy: 0.9062\n",
      "Epoch 29/30\n",
      "14/14 [==============================] - 10s 718ms/step - loss: 0.2831 - accuracy: 0.8889 - val_loss: 0.3452 - val_accuracy: 0.8906\n",
      "Epoch 30/30\n",
      "14/14 [==============================] - 10s 723ms/step - loss: 0.2844 - accuracy: 0.8865 - val_loss: 0.2487 - val_accuracy: 0.9062\n"
     ]
    }
   ],
   "source": [
    "STEP_SIZE_TRAIN=training_set.n//training_set.batch_size\n",
    "STEP_SIZE_VALID=valid_set.n//valid_set.batch_size\n",
    "model_info = classifier.fit_generator(generator=training_set,\n",
    "                    steps_per_epoch=STEP_SIZE_TRAIN,\n",
    "                    validation_data=valid_set,\n",
    "                    validation_steps=STEP_SIZE_VALID,\n",
    "                    epochs=30\n",
    ")"
   ]
  },
  {
   "cell_type": "code",
   "execution_count": 23,
   "metadata": {
    "colab": {
     "base_uri": "https://localhost:8080/"
    },
    "id": "VOBo9IL6wZUI",
    "outputId": "16e0bbb5-3282-4a9f-8768-17fa2a89dbc0"
   },
   "outputs": [
    {
     "name": "stderr",
     "output_type": "stream",
     "text": [
      "/usr/local/lib/python3.7/dist-packages/ipykernel_launcher.py:1: UserWarning: `Model.evaluate_generator` is deprecated and will be removed in a future version. Please use `Model.evaluate`, which supports generators.\n",
      "  \"\"\"Entry point for launching an IPython kernel.\n"
     ]
    },
    {
     "name": "stdout",
     "output_type": "stream",
     "text": [
      " Total:  64\n",
      "Loss:  0.2924516201019287 Accuracy:  0.890625\n"
     ]
    }
   ],
   "source": [
    "score = classifier.evaluate_generator(generator=valid_set,steps=STEP_SIZE_VALID)\n",
    "print(\" Total: \", len(valid_set.filenames))\n",
    "print(\"Loss: \", score[0], \"Accuracy: \", score[1])"
   ]
  },
  {
   "cell_type": "code",
   "execution_count": 24,
   "metadata": {
    "colab": {
     "base_uri": "https://localhost:8080/",
     "height": 295
    },
    "id": "H3BB9q73DMFd",
    "outputId": "305ee0b5-dcc3-4ece-e9f9-245f183c3fbf"
   },
   "outputs": [
    {
     "data": {
      "image/png": "[encoded data removed]",
      "text/plain": [
       "<Figure size 432x288 with 1 Axes>"
      ]
     },
     "metadata": {
      "needs_background": "light"
     },
     "output_type": "display_data"
    }
   ],
   "source": [
    "import matplotlib.pyplot as plt\n",
    "plt.plot(model_info.history['accuracy'])\n",
    "plt.plot(model_info.history['val_accuracy'])\n",
    "plt.title('Model accuracy')\n",
    "plt.ylabel('Accuracy')\n",
    "plt.xlabel('Epoch')\n",
    "plt.legend(['Train', 'Test'], loc='upper left')\n",
    "plt.show()"
   ]
  },
  {
   "cell_type": "code",
   "execution_count": 25,
   "metadata": {
    "id": "k_ZLMMbf6May"
   },
   "outputs": [],
   "source": [
    "import numpy as np\n",
    "import pandas as pd"
   ]
  },
  {
   "cell_type": "code",
   "execution_count": 11,
   "metadata": {
    "id": "uxAvmHqbNTLw"
   },
   "outputs": [],
   "source": [
    "train_path = \"/content/drive/My Drive/train\"\n",
    "test_path = \"/content/drive/My Drive/test\"\n",
    "valid_path = \"/content/drive/My Drive/valid\""
   ]
  },
  {
   "cell_type": "code",
   "execution_count": 12,
   "metadata": {
    "colab": {
     "base_uri": "https://localhost:8080/"
    },
    "id": "leeo_HBYNcRw",
    "outputId": "fd2300f9-d078-4e2c-ee43-1bd61d1865e0"
   },
   "outputs": [
    {
     "name": "stdout",
     "output_type": "stream",
     "text": [
      "Found 455 images belonging to 2 classes.\n",
      "Found 98 images belonging to 1 classes.\n",
      "Found 64 images belonging to 2 classes.\n"
     ]
    }
   ],
   "source": [
    "train_batches = ImageDataGenerator(rotation_range=10, width_shift_range=0.1, \n",
    "       height_shift_range=0.1, shear_range=0.15, zoom_range=0.1, \n",
    "       channel_shift_range=10., horizontal_flip=True).flow_from_directory(train_path, target_size=(224,224), classes = ['class0', 'class1'], batch_size=32)\n",
    "test_batches = ImageDataGenerator(rotation_range=10, width_shift_range=0.1, \n",
    "       height_shift_range=0.1, shear_range=0.15, zoom_range=0.1, \n",
    "       channel_shift_range=10., horizontal_flip=True).flow_from_directory(test_path, target_size=(224,224), class_mode= None, batch_size=32)\n",
    "valid_batches = ImageDataGenerator().flow_from_directory(valid_path, target_size=(224,224), classes = ['class0', 'class1'], batch_size=32)"
   ]
  },
  {
   "cell_type": "code",
   "execution_count": null,
   "metadata": {
    "colab": {
     "base_uri": "https://localhost:8080/"
    },
    "id": "bulnNfiNN_rH",
    "outputId": "49d2c639-4be1-427f-9e7b-4965e5cd8617"
   },
   "outputs": [
    {
     "name": "stdout",
     "output_type": "stream",
     "text": [
      "Downloading data from https://storage.googleapis.com/tensorflow/keras-applications/vgg16/vgg16_weights_tf_dim_ordering_tf_kernels.h5\n",
      "553467904/553467096 [==============================] - 2s 0us/step\n",
      "553476096/553467096 [==============================] - 2s 0us/step\n"
     ]
    }
   ],
   "source": [
    "import tensorflow as tf\n",
    "vgg16_model = tf.keras.applications.vgg16.VGG16()"
   ]
  },
  {
   "cell_type": "code",
   "execution_count": null,
   "metadata": {
    "id": "JfWXImaBOEsT"
   },
   "outputs": [],
   "source": [
    "new_model = Sequential()\n",
    "for layer in vgg16_model.layers[:-1]:\n",
    "    new_model.add(layer)"
   ]
  },
  {
   "cell_type": "code",
   "execution_count": null,
   "metadata": {
    "id": "0VZCDE4dObdO"
   },
   "outputs": [],
   "source": [
    "new_model.add(Dense(2, activation='softmax'))"
   ]
  },
  {
   "cell_type": "code",
   "execution_count": null,
   "metadata": {
    "colab": {
     "base_uri": "https://localhost:8080/"
    },
    "id": "JrjMtrxaOfgW",
    "outputId": "b6062d91-588f-44a0-fd7b-c1be029b8b6f"
   },
   "outputs": [
    {
     "name": "stdout",
     "output_type": "stream",
     "text": [
      "Model: \"sequential\"\n",
      "_________________________________________________________________\n",
      " Layer (type)                Output Shape              Param #   \n",
      "=================================================================\n",
      " block1_conv1 (Conv2D)       (None, 224, 224, 64)      1792      \n",
      "                                                                 \n",
      " block1_conv2 (Conv2D)       (None, 224, 224, 64)      36928     \n",
      "                                                                 \n",
      " block1_pool (MaxPooling2D)  (None, 112, 112, 64)      0         \n",
      "                                                                 \n",
      " block2_conv1 (Conv2D)       (None, 112, 112, 128)     73856     \n",
      "                                                                 \n",
      " block2_conv2 (Conv2D)       (None, 112, 112, 128)     147584    \n",
      "                                                                 \n",
      " block2_pool (MaxPooling2D)  (None, 56, 56, 128)       0         \n",
      "                                                                 \n",
      " block3_conv1 (Conv2D)       (None, 56, 56, 256)       295168    \n",
      "                                                                 \n",
      " block3_conv2 (Conv2D)       (None, 56, 56, 256)       590080    \n",
      "                                                                 \n",
      " block3_conv3 (Conv2D)       (None, 56, 56, 256)       590080    \n",
      "                                                                 \n",
      " block3_pool (MaxPooling2D)  (None, 28, 28, 256)       0         \n",
      "                                                                 \n",
      " block4_conv1 (Conv2D)       (None, 28, 28, 512)       1180160   \n",
      "                                                                 \n",
      " block4_conv2 (Conv2D)       (None, 28, 28, 512)       2359808   \n",
      "                                                                 \n",
      " block4_conv3 (Conv2D)       (None, 28, 28, 512)       2359808   \n",
      "                                                                 \n",
      " block4_pool (MaxPooling2D)  (None, 14, 14, 512)       0         \n",
      "                                                                 \n",
      " block5_conv1 (Conv2D)       (None, 14, 14, 512)       2359808   \n",
      "                                                                 \n",
      " block5_conv2 (Conv2D)       (None, 14, 14, 512)       2359808   \n",
      "                                                                 \n",
      " block5_conv3 (Conv2D)       (None, 14, 14, 512)       2359808   \n",
      "                                                                 \n",
      " block5_pool (MaxPooling2D)  (None, 7, 7, 512)         0         \n",
      "                                                                 \n",
      " flatten (Flatten)           (None, 25088)             0         \n",
      "                                                                 \n",
      " fc1 (Dense)                 (None, 4096)              102764544 \n",
      "                                                                 \n",
      " fc2 (Dense)                 (None, 4096)              16781312  \n",
      "                                                                 \n",
      " dense (Dense)               (None, 2)                 8194      \n",
      "                                                                 \n",
      "=================================================================\n",
      "Total params: 134,268,738\n",
      "Trainable params: 134,268,738\n",
      "Non-trainable params: 0\n",
      "_________________________________________________________________\n"
     ]
    }
   ],
   "source": [
    "new_model.summary()"
   ]
  },
  {
   "cell_type": "code",
   "execution_count": null,
   "metadata": {
    "colab": {
     "base_uri": "https://localhost:8080/"
    },
    "id": "OYw-lx_SOsLL",
    "outputId": "e715a6c0-e875-4cc5-aee9-92b979a10327"
   },
   "outputs": [
    {
     "name": "stderr",
     "output_type": "stream",
     "text": [
      "/usr/local/lib/python3.7/dist-packages/keras/optimizer_v2/adam.py:105: UserWarning: The `lr` argument is deprecated, use `learning_rate` instead.\n",
      "  super(Adam, self).__init__(name, **kwargs)\n"
     ]
    }
   ],
   "source": [
    "opt = tf.keras.optimizers.Adam(lr=0.0001)\n",
    "new_model.compile(loss = \"categorical_crossentropy\", optimizer = opt, metrics = ['accuracy'])"
   ]
  },
  {
   "cell_type": "code",
   "execution_count": null,
   "metadata": {
    "colab": {
     "base_uri": "https://localhost:8080/"
    },
    "id": "NiDIsRIgKw1B",
    "outputId": "bf65938d-f654-45e7-fe6c-1c0d527f1473"
   },
   "outputs": [
    {
     "name": "stderr",
     "output_type": "stream",
     "text": [
      "/usr/local/lib/python3.7/dist-packages/ipykernel_launcher.py:7: UserWarning: `Model.fit_generator` is deprecated and will be removed in a future version. Please use `Model.fit`, which supports generators.\n",
      "  import sys\n"
     ]
    },
    {
     "name": "stdout",
     "output_type": "stream",
     "text": [
      "Epoch 1/30\n",
      "14/14 [==============================] - 62s 3s/step - loss: 1.7386 - accuracy: 0.5106 - val_loss: 0.5931 - val_accuracy: 0.7500\n",
      "Epoch 2/30\n",
      "14/14 [==============================] - 10s 715ms/step - loss: 0.6546 - accuracy: 0.6525 - val_loss: 0.5276 - val_accuracy: 0.6875\n",
      "Epoch 3/30\n",
      "14/14 [==============================] - 10s 712ms/step - loss: 0.6497 - accuracy: 0.6785 - val_loss: 0.4217 - val_accuracy: 0.7969\n",
      "Epoch 4/30\n",
      "14/14 [==============================] - 10s 711ms/step - loss: 0.6206 - accuracy: 0.7139 - val_loss: 0.7388 - val_accuracy: 0.5000\n",
      "Epoch 5/30\n",
      "14/14 [==============================] - 10s 716ms/step - loss: 0.5972 - accuracy: 0.7139 - val_loss: 0.4319 - val_accuracy: 0.7344\n",
      "Epoch 6/30\n",
      "14/14 [==============================] - 10s 712ms/step - loss: 0.6535 - accuracy: 0.7187 - val_loss: 0.5175 - val_accuracy: 0.7188\n",
      "Epoch 7/30\n",
      "14/14 [==============================] - 10s 772ms/step - loss: 0.4648 - accuracy: 0.7967 - val_loss: 0.3308 - val_accuracy: 0.8438\n",
      "Epoch 8/30\n",
      "14/14 [==============================] - 10s 721ms/step - loss: 0.4777 - accuracy: 0.7518 - val_loss: 0.3350 - val_accuracy: 0.8906\n",
      "Epoch 9/30\n",
      "14/14 [==============================] - 10s 731ms/step - loss: 0.5547 - accuracy: 0.7116 - val_loss: 0.4817 - val_accuracy: 0.7656\n",
      "Epoch 10/30\n",
      "14/14 [==============================] - 11s 753ms/step - loss: 0.5443 - accuracy: 0.7447 - val_loss: 0.7809 - val_accuracy: 0.5469\n",
      "Epoch 11/30\n",
      "14/14 [==============================] - 11s 752ms/step - loss: 0.4779 - accuracy: 0.7612 - val_loss: 0.3274 - val_accuracy: 0.8594\n",
      "Epoch 12/30\n",
      "14/14 [==============================] - 11s 752ms/step - loss: 0.4176 - accuracy: 0.8132 - val_loss: 0.4455 - val_accuracy: 0.7344\n",
      "Epoch 13/30\n",
      "14/14 [==============================] - 11s 737ms/step - loss: 0.3365 - accuracy: 0.8534 - val_loss: 0.2282 - val_accuracy: 0.9062\n",
      "Epoch 14/30\n",
      "14/14 [==============================] - 11s 746ms/step - loss: 0.3459 - accuracy: 0.8558 - val_loss: 0.2920 - val_accuracy: 0.8438\n",
      "Epoch 15/30\n",
      "14/14 [==============================] - 11s 743ms/step - loss: 0.3823 - accuracy: 0.8132 - val_loss: 0.3825 - val_accuracy: 0.8125\n",
      "Epoch 16/30\n",
      "14/14 [==============================] - 11s 786ms/step - loss: 0.3078 - accuracy: 0.8723 - val_loss: 0.2041 - val_accuracy: 0.9062\n",
      "Epoch 17/30\n",
      "14/14 [==============================] - 11s 727ms/step - loss: 0.2314 - accuracy: 0.9054 - val_loss: 0.2223 - val_accuracy: 0.9219\n",
      "Epoch 18/30\n",
      "14/14 [==============================] - 11s 729ms/step - loss: 0.2208 - accuracy: 0.9078 - val_loss: 0.2201 - val_accuracy: 0.9062\n",
      "Epoch 19/30\n",
      "14/14 [==============================] - 10s 720ms/step - loss: 0.2054 - accuracy: 0.9314 - val_loss: 0.1384 - val_accuracy: 0.9531\n",
      "Epoch 20/30\n",
      "14/14 [==============================] - 10s 724ms/step - loss: 0.2264 - accuracy: 0.9031 - val_loss: 0.1628 - val_accuracy: 0.9219\n",
      "Epoch 21/30\n",
      "14/14 [==============================] - 11s 742ms/step - loss: 0.2122 - accuracy: 0.9196 - val_loss: 0.2936 - val_accuracy: 0.8438\n",
      "Epoch 22/30\n",
      "14/14 [==============================] - 10s 715ms/step - loss: 0.2392 - accuracy: 0.9007 - val_loss: 0.1467 - val_accuracy: 0.9219\n",
      "Epoch 23/30\n",
      "14/14 [==============================] - 10s 767ms/step - loss: 0.2526 - accuracy: 0.9031 - val_loss: 0.1744 - val_accuracy: 0.9219\n",
      "Epoch 24/30\n",
      "14/14 [==============================] - 11s 746ms/step - loss: 0.1740 - accuracy: 0.9330 - val_loss: 0.1259 - val_accuracy: 0.9219\n",
      "Epoch 25/30\n",
      "14/14 [==============================] - 10s 712ms/step - loss: 0.1379 - accuracy: 0.9456 - val_loss: 0.1014 - val_accuracy: 0.9531\n",
      "Epoch 26/30\n",
      "14/14 [==============================] - 10s 719ms/step - loss: 0.1792 - accuracy: 0.9267 - val_loss: 0.1497 - val_accuracy: 0.9375\n",
      "Epoch 27/30\n",
      "14/14 [==============================] - 11s 740ms/step - loss: 0.1237 - accuracy: 0.9554 - val_loss: 0.0807 - val_accuracy: 0.9844\n",
      "Epoch 28/30\n",
      "14/14 [==============================] - 10s 728ms/step - loss: 0.1136 - accuracy: 0.9574 - val_loss: 0.0558 - val_accuracy: 0.9844\n",
      "Epoch 29/30\n",
      "14/14 [==============================] - 10s 727ms/step - loss: 0.0994 - accuracy: 0.9669 - val_loss: 0.1807 - val_accuracy: 0.9219\n",
      "Epoch 30/30\n",
      "14/14 [==============================] - 10s 726ms/step - loss: 0.1244 - accuracy: 0.9598 - val_loss: 0.1460 - val_accuracy: 0.9531\n"
     ]
    }
   ],
   "source": [
    "STEP_SIZE_OF_TRAIN=train_batches.n//train_batches.batch_size\n",
    "STEP_SIZE_OF_VALID=valid_batches.n//valid_batches.batch_size\n",
    "history = new_model.fit_generator(generator=train_batches,\n",
    "                    steps_per_epoch=STEP_SIZE_OF_TRAIN,\n",
    "                    validation_data=valid_batches,\n",
    "                    validation_steps=STEP_SIZE_OF_VALID,\n",
    "                    epochs=30\n",
    ")"
   ]
  },
  {
   "cell_type": "code",
   "execution_count": null,
   "metadata": {
    "colab": {
     "base_uri": "https://localhost:8080/"
    },
    "id": "Uf0uXle7RT3U",
    "outputId": "b98f2791-f572-495c-e100-3638c58400f4"
   },
   "outputs": [
    {
     "name": "stderr",
     "output_type": "stream",
     "text": [
      "/usr/local/lib/python3.7/dist-packages/ipykernel_launcher.py:1: UserWarning: `Model.evaluate_generator` is deprecated and will be removed in a future version. Please use `Model.evaluate`, which supports generators.\n",
      "  \"\"\"Entry point for launching an IPython kernel.\n"
     ]
    },
    {
     "name": "stdout",
     "output_type": "stream",
     "text": [
      " Total:  64\n",
      "Loss:  0.14596675336360931 Accuracy:  0.953125\n"
     ]
    }
   ],
   "source": [
    "score = new_model.evaluate_generator(generator=valid_batches,steps=STEP_SIZE_OF_VALID)\n",
    "print(\" Total: \", len(valid_batches.filenames))\n",
    "print(\"Loss: \", score[0], \"Accuracy: \", score[1])"
   ]
  },
  {
   "cell_type": "code",
   "execution_count": null,
   "metadata": {
    "colab": {
     "base_uri": "https://localhost:8080/",
     "height": 295
    },
    "id": "1oC7ChEvR-gX",
    "outputId": "0f5b3b34-7123-49f1-e0a4-cd767066efc6"
   },
   "outputs": [
    {
     "data": {
      "image/png": "[encoded data removed]",
      "text/plain": [
       "<Figure size 432x288 with 1 Axes>"
      ]
     },
     "metadata": {
      "needs_background": "light"
     },
     "output_type": "display_data"
    }
   ],
   "source": [
    "import matplotlib.pyplot as plt\n",
    "plt.plot(history.history['accuracy'])\n",
    "plt.plot(history.history['val_accuracy'])\n",
    "plt.title('Model accuracy')\n",
    "plt.ylabel('Accuracy')\n",
    "plt.xlabel('Epoch')\n",
    "plt.legend(['Train', 'Test'], loc='upper left')\n",
    "plt.show()"
   ]
  }
 ],
 "metadata": {
  "accelerator": "GPU",
  "colab": {
   "name": "Glaucoma_detection_final.ipynb",
   "provenance": []
  },
  "kernelspec": {
   "display_name": "Python 3",
   "language": "python",
   "name": "python3"
  },
  "language_info": {
   "codemirror_mode": {
    "name": "ipython",
    "version": 3
   },
   "file_extension": ".py",
   "mimetype": "text/x-python",
   "name": "python",
   "nbconvert_exporter": "python",
   "pygments_lexer": "ipython3",
   "version": "3.8.8"
  }
 },
 "nbformat": 4,
 "nbformat_minor": 1
}
